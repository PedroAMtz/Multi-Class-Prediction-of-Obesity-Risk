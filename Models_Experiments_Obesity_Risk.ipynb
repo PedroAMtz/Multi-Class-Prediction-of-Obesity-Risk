{
  "nbformat": 4,
  "nbformat_minor": 0,
  "metadata": {
    "colab": {
      "provenance": [],
      "authorship_tag": "ABX9TyMhWXin591PJ8fnj4ft2aoE",
      "include_colab_link": true
    },
    "kernelspec": {
      "name": "python3",
      "display_name": "Python 3"
    },
    "language_info": {
      "name": "python"
    }
  },
  "cells": [
    {
      "cell_type": "markdown",
      "metadata": {
        "id": "view-in-github",
        "colab_type": "text"
      },
      "source": [
        "<a href=\"https://colab.research.google.com/github/PedroAMtz/Multi-Class-Prediction-of-Obesity-Risk/blob/main/Models_Experiments_Obesity_Risk.ipynb\" target=\"_parent\"><img src=\"https://colab.research.google.com/assets/colab-badge.svg\" alt=\"Open In Colab\"/></a>"
      ]
    },
    {
      "cell_type": "markdown",
      "source": [
        "# Models Experiments - Baseline + Fine-Tuning + Hyperparameter exploration 🤖🎯"
      ],
      "metadata": {
        "id": "gFFcotYLKbyh"
      }
    },
    {
      "cell_type": "markdown",
      "source": [
        "In this Notebook we will focus on models experiments in depth, reaching a baseline model and then fine-tuning for obtaining better performance. The main idea is to implement different classification models from sickit-learn module, explore fine-tuning and understand generally each of the hyperparameter from each model proposed. With this, the objective is to build some relevant theoretical + practical knowledge about ML algorithms and use the Obesity Risk Multi-class prediction dataset to practice."
      ],
      "metadata": {
        "id": "tN9b9XpHKwgc"
      }
    },
    {
      "cell_type": "code",
      "execution_count": null,
      "metadata": {
        "id": "Hucp3VAVKQA8"
      },
      "outputs": [],
      "source": [
        "import pandas as pd\n",
        "import numpy as np\n",
        "import matplotlib.pyplot as plt\n",
        "import seaborn as sns\n",
        "import sklearn"
      ]
    },
    {
      "cell_type": "code",
      "source": [
        "from google.colab import drive\n",
        "drive.mount('/content/drive')"
      ],
      "metadata": {
        "id": "Xw3IyNsLL7o6"
      },
      "execution_count": null,
      "outputs": []
    },
    {
      "cell_type": "code",
      "source": [
        "data_path = \"/content/drive/MyDrive/Data_Science_Foundations/playground-series-s4e2/\"\n",
        "\n",
        "train_data = pd.read_csv(data_path + \"train.csv\")\n",
        "train_data.head()"
      ],
      "metadata": {
        "id": "SAbTD7GML9D2"
      },
      "execution_count": null,
      "outputs": []
    }
  ]
}